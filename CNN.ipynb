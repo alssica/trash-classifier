{
 "cells": [
  {
   "cell_type": "code",
   "execution_count": 37,
   "metadata": {},
   "outputs": [],
   "source": [
    "import os, re\n",
    "import dill\n",
    "import random\n",
    "import pandas as pd\n",
    "import numpy as np\n",
    "import tensorflow as tf\n",
    "import matplotlib.pyplot as plt"
   ]
  },
  {
   "cell_type": "code",
   "execution_count": 70,
   "metadata": {},
   "outputs": [],
   "source": [
    "from sklearn.model_selection import train_test_split\n",
    "from keras.models import Sequential, load_model\n",
    "from keras.layers import Dense, Conv2D, MaxPooling2D, Flatten, Dropout\n",
    "from keras.losses import categorical_crossentropy\n",
    "from keras.optimizers import adam, sgd\n",
    "from keras.preprocessing.image import ImageDataGenerator\n",
    "from keras.callbacks import ModelCheckpoint"
   ]
  },
  {
   "cell_type": "markdown",
   "metadata": {},
   "source": [
    "## Load Data\n",
    "* ### prep original data: create df for path and label"
   ]
  },
  {
   "cell_type": "code",
   "execution_count": 4,
   "metadata": {},
   "outputs": [],
   "source": [
    "# encode label\n",
    "CATEGORIES = {\n",
    "    'cardboard': 0,\n",
    "    'glass': 1,\n",
    "    'metal': 2,\n",
    "    'paper': 3,\n",
    "    'plastic': 4,\n",
    "    'trash': 5\n",
    "}"
   ]
  },
  {
   "cell_type": "code",
   "execution_count": 47,
   "metadata": {},
   "outputs": [
    {
     "data": {
      "text/html": [
       "<div>\n",
       "<style scoped>\n",
       "    .dataframe tbody tr th:only-of-type {\n",
       "        vertical-align: middle;\n",
       "    }\n",
       "\n",
       "    .dataframe tbody tr th {\n",
       "        vertical-align: top;\n",
       "    }\n",
       "\n",
       "    .dataframe thead th {\n",
       "        text-align: right;\n",
       "    }\n",
       "</style>\n",
       "<table border=\"1\" class=\"dataframe\">\n",
       "  <thead>\n",
       "    <tr style=\"text-align: right;\">\n",
       "      <th></th>\n",
       "      <th>name</th>\n",
       "      <th>path</th>\n",
       "      <th>label_name</th>\n",
       "      <th>label_code</th>\n",
       "    </tr>\n",
       "  </thead>\n",
       "  <tbody>\n",
       "    <tr>\n",
       "      <th>0</th>\n",
       "      <td>metal296</td>\n",
       "      <td>/Users/loaner/Documents/github/trash-classifie...</td>\n",
       "      <td>metal</td>\n",
       "      <td>2</td>\n",
       "    </tr>\n",
       "    <tr>\n",
       "      <th>1</th>\n",
       "      <td>plastic391</td>\n",
       "      <td>/Users/loaner/Documents/github/trash-classifie...</td>\n",
       "      <td>plastic</td>\n",
       "      <td>4</td>\n",
       "    </tr>\n",
       "    <tr>\n",
       "      <th>2</th>\n",
       "      <td>cardboard233</td>\n",
       "      <td>/Users/loaner/Documents/github/trash-classifie...</td>\n",
       "      <td>cardboard</td>\n",
       "      <td>0</td>\n",
       "    </tr>\n",
       "    <tr>\n",
       "      <th>3</th>\n",
       "      <td>cardboard227</td>\n",
       "      <td>/Users/loaner/Documents/github/trash-classifie...</td>\n",
       "      <td>cardboard</td>\n",
       "      <td>0</td>\n",
       "    </tr>\n",
       "    <tr>\n",
       "      <th>4</th>\n",
       "      <td>plastic385</td>\n",
       "      <td>/Users/loaner/Documents/github/trash-classifie...</td>\n",
       "      <td>plastic</td>\n",
       "      <td>4</td>\n",
       "    </tr>\n",
       "  </tbody>\n",
       "</table>\n",
       "</div>"
      ],
      "text/plain": [
       "           name                                               path label_name  \\\n",
       "0      metal296  /Users/loaner/Documents/github/trash-classifie...      metal   \n",
       "1    plastic391  /Users/loaner/Documents/github/trash-classifie...    plastic   \n",
       "2  cardboard233  /Users/loaner/Documents/github/trash-classifie...  cardboard   \n",
       "3  cardboard227  /Users/loaner/Documents/github/trash-classifie...  cardboard   \n",
       "4    plastic385  /Users/loaner/Documents/github/trash-classifie...    plastic   \n",
       "\n",
       "  label_code  \n",
       "0          2  \n",
       "1          4  \n",
       "2          0  \n",
       "3          0  \n",
       "4          4  "
      ]
     },
     "execution_count": 47,
     "metadata": {},
     "output_type": "execute_result"
    }
   ],
   "source": [
    "# create df\n",
    "img_path = os.path.join(os.getcwd(), \"data/raw_data/resize-mixed\")\n",
    "names = [f.split(\".\")[0] for f in os.listdir(img_path) if any(c.isdigit() for c in f)]\n",
    "labels = [re.sub(r'\\d+', '', name) for name in names]\n",
    "label_codes = [CATEGORIES[l] for l in labels]\n",
    "paths = [os.path.join(img_path, f+\".jpg\") for f in names]\n",
    "dict_df = pd.DataFrame(zip(names, paths, labels, label_codes), columns=['name','path', 'label_name', 'label_code'], dtype=str)\n",
    "dict_df.head()"
   ]
  },
  {
   "cell_type": "code",
   "execution_count": 44,
   "metadata": {},
   "outputs": [
    {
     "name": "stdout",
     "output_type": "stream",
     "text": [
      "total sample size: 2527\n",
      "{'cardboard': 403, 'glass': 501, 'metal': 410, 'paper': 594, 'plastic': 482, 'trash': 137}\n"
     ]
    },
    {
     "data": {
      "text/plain": [
       "<matplotlib.axes._subplots.AxesSubplot at 0x13fb07910>"
      ]
     },
     "execution_count": 44,
     "metadata": {},
     "output_type": "execute_result"
    },
    {
     "data": {
      "image/png": "[encoded data removed]",
      "text/plain": [
       "<Figure size 432x288 with 1 Axes>"
      ]
     },
     "metadata": {
      "needs_background": "light"
     },
     "output_type": "display_data"
    }
   ],
   "source": [
    "# sanity check\n",
    "class_ct = dict_df.groupby(dict_df['label_name']).count()\n",
    "print(\"total sample size: %d\" % len(dict_df))\n",
    "print(class_ct['name'].to_dict())\n",
    "class_ct.reset_index().plot.bar(x='label_name', y='name', rot=0)"
   ]
  },
  {
   "cell_type": "markdown",
   "metadata": {},
   "source": [
    "* ### Train test split with data augmentation"
   ]
  },
  {
   "cell_type": "code",
   "execution_count": 66,
   "metadata": {},
   "outputs": [],
   "source": [
    "# image augmentation \n",
    "def rotate(image_array: np.ndarray):\n",
    "    '''rotate image with a random degree (between left_degree and right_degree)'''\n",
    "    degree_limit = 30\n",
    "    rotate_degree = random.uniform(-degree_limit, degree_limit)\n",
    "    return skimage.transform.rotate(image_array, rotate_degree)*255\n",
    "\n",
    "def add_noise(image_array: np.ndarray):\n",
    "    '''add noise to image'''\n",
    "    return skimage.util.random_noise(image_array)*255\n",
    "\n",
    "def hor_flip(image_array: np.ndarray):\n",
    "    '''flipping pixels horizontally'''\n",
    "    return image_array[:, ::-1]\n",
    "\n",
    "def ver_flip(image_array: np.ndarray):\n",
    "    '''flipping pixels vertically'''\n",
    "    return image_array[::-1, :]\n",
    "\n",
    "transform_methods = [rotate, add_noise, hor_flip, ver_flip]"
   ]
  },
  {
   "cell_type": "code",
   "execution_count": 68,
   "metadata": {},
   "outputs": [],
   "source": [
    "def create_more_trash(target_num, base_file_paths, count_for_name):\n",
    "    num_transformed = 0\n",
    "    aug_img_df = pd.DataFrame(columns=dict_df.columns)\n",
    "    \n",
    "    base_folder = os.path.join('data/raw_data/resized', 'trash')\n",
    "    aug_path = 'data/raw_data/aug_data'\n",
    "\n",
    "    # delete if aug folder already exists (re-aug for every training set)\n",
    "    if not os.path.exists(aug_path):\n",
    "        os.mkdir(aug_path)\n",
    "    else:\n",
    "        for f in os.listdir(aug_path):\n",
    "            os.remove(os.path.join(aug_path, f))\n",
    "    \n",
    "    while num_transformed <= target_num:\n",
    "        rand_path = random.choice(base_file_paths)\n",
    "        base_img = dill.load(open(rand_path, 'rb'))\n",
    "\n",
    "        new_img = transform_methods[random.randint(0,3)](base_img).astype(np.uint8)\n",
    "        num_transformed += 1\n",
    "        \n",
    "        new_img_name = \"trash{}\".format(str(count_for_name + num_transformed))\n",
    "        new_img_path = os.path.join(aug_path, new_img_name)\n",
    "        \n",
    "        aug_img_df = aug_img_df.append({\"name\":new_img_name, \"path\":new_img_path, \"label\": \"trash\"},ignore_index=True)\n",
    "        dill.dump(new_img, open(new_img_path, 'wb'))\n",
    "    return aug_img_df"
   ]
  },
  {
   "cell_type": "code",
   "execution_count": 64,
   "metadata": {},
   "outputs": [],
   "source": [
    "def split_and_aug(data_df, test_size):\n",
    "\n",
    "    X_train_df, X_test_df, y_train_df, y_test_df = train_test_split(data_df, data_df['label_code'], \\\n",
    "                                                                    test_size=test_size)\n",
    "\n",
    "    # data augmentation prep\n",
    "    trash_base_df = X_train_df[X_train_df['label_name']=='trash']\n",
    "    trash_base_paths = trash_base_df['path'].tolist()\n",
    "    if len(trash_base_df[~trash_base_df['name'].str.contains('trash')])!=0:\n",
    "        raise \"label incorrect\"  # sanity check\n",
    "    else:\n",
    "        avg_numb = int((len(X_train_df)- len(trash_base_paths))/5)\n",
    "        trash_aug_numb = avg_numb - len(trash_base_paths)\n",
    "        aug_trash_df = create_more_trash(trash_aug_numb, trash_base_paths, 137)\n",
    "    \n",
    "    # load the augmented data into training set\n",
    "    X_train_df = X_train_df.append(aug_trash_df)\n",
    "    y_train_df = y_train_df.append(aug_trash_df['label'])\n",
    "    \n",
    "    return X_train_df, X_test_df, y_train_df, y_test_df"
   ]
  },
  {
   "cell_type": "markdown",
   "metadata": {},
   "source": [
    "* ### Turn image nparray into TFRecord (to save memory), then to TFDataSet"
   ]
  },
  {
   "cell_type": "code",
   "execution_count": 50,
   "metadata": {},
   "outputs": [],
   "source": [
    "def generate_tfrecord(data_df, save_dir):\n",
    "    for index, row in data_df.iterrows():\n",
    "        # load the ogirinal file and info\n",
    "        file = open(row['path'], 'rb')\n",
    "        label = int(row['label_code'])\n",
    "        new_path = os.path.join(save_dir, row['name'])\n",
    "        \n",
    "        # convert to tf.example.feature types\n",
    "        #file_feature = tf.train.Feature(float_list=tf.train.FloatList(value=file.flatten()))\n",
    "        file_feature = tf.train.Feature(bytes_list=tf.train.BytesList(value=file))\n",
    "        label_feature = tf.train.Feature(int64_list=tf.train.Int64List(value=[label]))\n",
    "        file_fea_dict = tf.train.Features(feature={'image': file_feature,\\\n",
    "                                                 'label': label_feature})\n",
    "        example = tf.train.Example(features=file_fea_dict)\n",
    "        \n",
    "        # writing\n",
    "        if os.path.exists(new_path):\n",
    "            print(\"tfrecord file for {} already exist.\".format(row['name']))\n",
    "        else:\n",
    "            tf_writer = tf.io.TFRecordWriter(new_path)\n",
    "            tf_writer.write(example.SerializeToString())\n",
    "            tf_writer.close()\n",
    "        file.close()"
   ]
  },
  {
   "cell_type": "markdown",
   "metadata": {},
   "source": [
    "* ### Run the full prep"
   ]
  },
  {
   "cell_type": "code",
   "execution_count": 48,
   "metadata": {},
   "outputs": [],
   "source": [
    "def tf_data_prep(original_df, test_ratio):\n",
    "    X_train_df, X_test_df, y_train_df, y_test_df = split_and_aug(original_df, test_ratio)\n",
    "    generate_tfrecord(original_df, 'data/raw_data/tf_data')\n",
    "    dataset = tf.data.TFRecordDataset(filenames=file_names)"
   ]
  },
  {
   "cell_type": "markdown",
   "metadata": {},
   "source": [
    "## Model"
   ]
  }
 ],
 "metadata": {
  "kernelspec": {
   "display_name": "Python 3",
   "language": "python",
   "name": "python3"
  },
  "language_info": {
   "codemirror_mode": {
    "name": "ipython",
    "version": 3
   },
   "file_extension": ".py",
   "mimetype": "text/x-python",
   "name": "python",
   "nbconvert_exporter": "python",
   "pygments_lexer": "ipython3",
   "version": "3.7.4"
  }
 },
 "nbformat": 4,
 "nbformat_minor": 2
}
